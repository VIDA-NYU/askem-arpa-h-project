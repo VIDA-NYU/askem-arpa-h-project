{
 "cells": [
  {
   "cell_type": "markdown",
   "id": "3b03e371-7aed-4d0c-b45c-4a496185fe4e",
   "metadata": {},
   "source": [
    "## Statistics for Value Mappings"
   ]
  },
  {
   "cell_type": "code",
   "execution_count": 1,
   "id": "0e4babcd-2813-479b-8869-24588fb034e5",
   "metadata": {},
   "outputs": [
    {
     "name": "stderr",
     "output_type": "stream",
     "text": [
      "/Users/rlopez/opt/anaconda3/envs/askem/lib/python3.10/site-packages/tqdm/auto.py:21: TqdmWarning: IProgress not found. Please update jupyter and ipywidgets. See https://ipywidgets.readthedocs.io/en/stable/user_install.html\n",
      "  from .autonotebook import tqdm as notebook_tqdm\n"
     ]
    }
   ],
   "source": [
    "import pandas as pd\n",
    "from gdc_utils import get_gdc_data\n",
    "from value_matcher import TFIDFMatcher, EmbeddingMatcher, EditMatcher, LLMMatcher\n",
    "from value_matcher_interface import MatcherInterface"
   ]
  },
  {
   "cell_type": "code",
   "execution_count": 2,
   "id": "547a29ca-0c89-4f27-93f1-78b4db9ec766",
   "metadata": {},
   "outputs": [],
   "source": [
    "column_mapping = {\n",
    "    #\"Proteomics_Participant_ID\": \"case_submitter_id\",\n",
    "    #\"Age\": \"age_at_diagnosis\",\n",
    "    \"Gender\": \"gender\",\n",
    "    \"Race\": \"race\",\n",
    "    \"Ethnicity\": \"ethnicity\",\n",
    "    #\"(none)\": \"(none)\",\n",
    "    \"Histologic_Grade_FIGO\": \"tumor_grade\",\n",
    "    \"tumor_Stage-Pathological\": \"ajcc_pathologic_stage\",\n",
    "    \"Path_Stage_Reg_Lymph_Nodes-pN\": \"ajcc_pathologic_n\",\n",
    "    \"Path_Stage_Primary_Tumor-pT\": \"ajcc_pathologic_t\",\n",
    "    \"Tumor_Focality\": \"tumor_focality\",\n",
    "    #\"Tumor_Size_cm\": \"tumor_largest_dimension_diameter\",\n",
    "    \"Tumor_Site\": \"tissue_or_organ_of_origin\",\n",
    "    \"Histologic_type\": \"morphology\",\n",
    "    #\"Case_excluded\": \"(none)\"\n",
    "}\n",
    "\n",
    "gdc_data = get_gdc_data(column_mapping.values())\n",
    "dataset = pd.read_csv('../data/use_case1/dou.csv')\n",
    "dataset = dataset[column_mapping.keys()]"
   ]
  },
  {
   "cell_type": "code",
   "execution_count": 3,
   "id": "45c9ecc0-5cd7-4a52-ba59-b85edef2fab8",
   "metadata": {},
   "outputs": [],
   "source": [
    "import json\n",
    "\n",
    "GDC_SCHEMA_PATH = '../data/use_case1/gdc_schema.json'\n",
    "\n",
    "\n",
    "def read_gdc_schema():\n",
    "    with open(GDC_SCHEMA_PATH) as json_file:\n",
    "        gdc_schema = json.load(json_file)\n",
    "\n",
    "    return gdc_schema\n",
    "\n",
    "\n",
    "def get_gdc_data(column_names):\n",
    "    gdc_schema = read_gdc_schema()\n",
    "    gdc_data = {}\n",
    "\n",
    "    for column_name in column_names:\n",
    "        gdc_values = get_gdc_values(column_name, gdc_schema)\n",
    "        gdc_data[column_name] = gdc_values\n",
    "\n",
    "    return gdc_data\n",
    "\n",
    "\n",
    "def get_gdc_values(column_name, gdc_schema):\n",
    "    for key, values in gdc_schema.items():\n",
    "        for key in values['properties'].keys():\n",
    "            if column_name == key:\n",
    "                value_metadata = values['properties'][column_name]\n",
    "                if \"enumDef\" in value_metadata:\n",
    "                    return value_metadata['enumDef']\n",
    "                elif \"type\" in value_metadata and value_metadata['type'] == 'number':\n",
    "                    return None\n",
    "\n",
    "    return None"
   ]
  },
  {
   "cell_type": "code",
   "execution_count": 5,
   "id": "6eabc6ca-37ff-46fc-877c-10c2dcf9bee3",
   "metadata": {},
   "outputs": [],
   "source": [
    "data = get_gdc_data(['morphology'])"
   ]
  },
  {
   "cell_type": "code",
   "execution_count": 9,
   "id": "f5ef16b9-0d65-4f20-b9fb-e42220145571",
   "metadata": {},
   "outputs": [
    {
     "data": {
      "text/plain": [
       "'An epithelial neoplasm that arises from the ovary characterized by the presence of glandular or cystic spaces which contain atypical glandular epithelial cells resembling endometrial cells. The surrounding ovarian stroma is often fibrotic. There is no evidence of stromal invasion.'"
      ]
     },
     "execution_count": 9,
     "metadata": {},
     "output_type": "execute_result"
    }
   ],
   "source": [
    "data['morphology']['8380/3']['description']"
   ]
  },
  {
   "cell_type": "code",
   "execution_count": null,
   "id": "7bcc1226-612e-4582-99ae-2bd902c8d5bf",
   "metadata": {},
   "outputs": [],
   "source": []
  }
 ],
 "metadata": {
  "kernelspec": {
   "display_name": "Python 3 (ipykernel)",
   "language": "python",
   "name": "python3"
  },
  "language_info": {
   "codemirror_mode": {
    "name": "ipython",
    "version": 3
   },
   "file_extension": ".py",
   "mimetype": "text/x-python",
   "name": "python",
   "nbconvert_exporter": "python",
   "pygments_lexer": "ipython3",
   "version": "3.10.13"
  }
 },
 "nbformat": 4,
 "nbformat_minor": 5
}
