{
 "cells": [
  {
   "cell_type": "markdown",
   "id": "3b03e371-7aed-4d0c-b45c-4a496185fe4e",
   "metadata": {},
   "source": [
    "## Decorators"
   ]
  },
  {
   "cell_type": "code",
   "execution_count": 1,
   "id": "0e4babcd-2813-479b-8869-24588fb034e5",
   "metadata": {},
   "outputs": [],
   "source": [
    "import numpy as np\n",
    "import time\n",
    "from functools import wraps"
   ]
  },
  {
   "cell_type": "code",
   "execution_count": 4,
   "id": "547a29ca-0c89-4f27-93f1-78b4db9ec766",
   "metadata": {},
   "outputs": [
    {
     "name": "stdout",
     "output_type": "stream",
     "text": [
      "Result: 25\n",
      "Result: 4\n"
     ]
    }
   ],
   "source": [
    "def timing_and_saving_results(file_name):\n",
    "    def decorator(func):\n",
    "        @wraps(func)\n",
    "        def wrapper(*args, **kwargs):\n",
    "            start_time = time.time()\n",
    "            result = func(*args, **kwargs)\n",
    "            end_time = time.time()\n",
    "            execution_time = end_time - start_time\n",
    "            \n",
    "            # Save the execution time to a NumPy array\n",
    "            try:\n",
    "                times = np.load(file_name + \"_times.npy\")\n",
    "                results = np.load(file_name + \"_results.npy\")\n",
    "            except FileNotFoundError:\n",
    "                times = np.array([])\n",
    "                results = np.array([])\n",
    "\n",
    "            times = np.append(times, execution_time)\n",
    "            results = np.append(results, result)\n",
    "            \n",
    "            np.save(file_name + \"_times\", times)\n",
    "            np.save(file_name + \"_results\", results)\n",
    "\n",
    "            return result\n",
    "        return wrapper\n",
    "    return decorator\n",
    "\n",
    "\n",
    "# Fabio's functions\n",
    "@timing_and_saving_results(\"intermediary_output1\")\n",
    "def fabio_function1(x):\n",
    "    time.sleep(2)\n",
    "    return x * x\n",
    "\n",
    "@timing_and_saving_results(\"intermediary_output2\")\n",
    "def fabio_function2(x):\n",
    "    time.sleep(2)\n",
    "    return x * x\n",
    "    \n",
    "\n",
    "# Results\n",
    "result = fabio_function1(5)\n",
    "print(\"Result:\", result)\n",
    "\n",
    "result = fabio_function2(2)\n",
    "print(\"Result:\", result)\n"
   ]
  },
  {
   "cell_type": "code",
   "execution_count": null,
   "id": "c1cd8fe3-d43c-4516-a939-cb7a91455aad",
   "metadata": {},
   "outputs": [],
   "source": []
  }
 ],
 "metadata": {
  "kernelspec": {
   "display_name": "Python 3 (ipykernel)",
   "language": "python",
   "name": "python3"
  },
  "language_info": {
   "codemirror_mode": {
    "name": "ipython",
    "version": 3
   },
   "file_extension": ".py",
   "mimetype": "text/x-python",
   "name": "python",
   "nbconvert_exporter": "python",
   "pygments_lexer": "ipython3",
   "version": "3.10.13"
  }
 },
 "nbformat": 4,
 "nbformat_minor": 5
}
